{
 "cells": [
  {
   "cell_type": "markdown",
   "metadata": {},
   "source": [
    "# A/B Testing: New page vs Old page\n",
    "\n",
    "A homepage is providing cat adoption. They want to see if changing the page layout would yield higher conversion rate, that is more cat adoption. \n",
    "\n",
    "\n",
    "Before comparing the two pages, we want to know what the conversion rate looks like initiatlly, that is the baseline conversion. A power analysis will be performed just to show the concept in python. A/B testing will be performed in the end to see if there is any difference between the conversion rate for the new and old page.     "
   ]
  },
  {
   "cell_type": "code",
   "execution_count": 1,
   "metadata": {
    "scrolled": true
   },
   "outputs": [],
   "source": [
    "import pandas as pd\n",
    "import numpy as np\n",
    "import seaborn as sns\n",
    "import matplotlib.pyplot as plt\n",
    "from scipy import stats\n",
    "import statsmodels.api as sm\n",
    "\n",
    "df = pd.read_csv('click_data.csv')"
   ]
  },
  {
   "cell_type": "code",
   "execution_count": 2,
   "metadata": {},
   "outputs": [
    {
     "name": "stdout",
     "output_type": "stream",
     "text": [
      "<class 'pandas.core.frame.DataFrame'>\n",
      "RangeIndex: 3650 entries, 0 to 3649\n",
      "Data columns (total 2 columns):\n",
      " #   Column               Non-Null Count  Dtype \n",
      "---  ------               --------------  ----- \n",
      " 0   visit_date           3650 non-null   object\n",
      " 1   clicked_adopt_today  3650 non-null   int64 \n",
      "dtypes: int64(1), object(1)\n",
      "memory usage: 57.2+ KB\n"
     ]
    }
   ],
   "source": [
    "# Check the data types\n",
    "df.info()"
   ]
  },
  {
   "cell_type": "code",
   "execution_count": 3,
   "metadata": {},
   "outputs": [
    {
     "data": {
      "text/html": [
       "<div>\n",
       "<style scoped>\n",
       "    .dataframe tbody tr th:only-of-type {\n",
       "        vertical-align: middle;\n",
       "    }\n",
       "\n",
       "    .dataframe tbody tr th {\n",
       "        vertical-align: top;\n",
       "    }\n",
       "\n",
       "    .dataframe thead th {\n",
       "        text-align: right;\n",
       "    }\n",
       "</style>\n",
       "<table border=\"1\" class=\"dataframe\">\n",
       "  <thead>\n",
       "    <tr style=\"text-align: right;\">\n",
       "      <th></th>\n",
       "      <th>clicked_adopt_today</th>\n",
       "    </tr>\n",
       "  </thead>\n",
       "  <tbody>\n",
       "    <tr>\n",
       "      <th>count</th>\n",
       "      <td>3650.000000</td>\n",
       "    </tr>\n",
       "    <tr>\n",
       "      <th>mean</th>\n",
       "      <td>0.277260</td>\n",
       "    </tr>\n",
       "    <tr>\n",
       "      <th>std</th>\n",
       "      <td>0.447707</td>\n",
       "    </tr>\n",
       "    <tr>\n",
       "      <th>min</th>\n",
       "      <td>0.000000</td>\n",
       "    </tr>\n",
       "    <tr>\n",
       "      <th>25%</th>\n",
       "      <td>0.000000</td>\n",
       "    </tr>\n",
       "    <tr>\n",
       "      <th>50%</th>\n",
       "      <td>0.000000</td>\n",
       "    </tr>\n",
       "    <tr>\n",
       "      <th>75%</th>\n",
       "      <td>1.000000</td>\n",
       "    </tr>\n",
       "    <tr>\n",
       "      <th>max</th>\n",
       "      <td>1.000000</td>\n",
       "    </tr>\n",
       "  </tbody>\n",
       "</table>\n",
       "</div>"
      ],
      "text/plain": [
       "       clicked_adopt_today\n",
       "count          3650.000000\n",
       "mean              0.277260\n",
       "std               0.447707\n",
       "min               0.000000\n",
       "25%               0.000000\n",
       "50%               0.000000\n",
       "75%               1.000000\n",
       "max               1.000000"
      ]
     },
     "execution_count": 3,
     "metadata": {},
     "output_type": "execute_result"
    }
   ],
   "source": [
    "# Descriptive data\n",
    "df.describe()"
   ]
  },
  {
   "cell_type": "code",
   "execution_count": 4,
   "metadata": {},
   "outputs": [
    {
     "data": {
      "text/html": [
       "<div>\n",
       "<style scoped>\n",
       "    .dataframe tbody tr th:only-of-type {\n",
       "        vertical-align: middle;\n",
       "    }\n",
       "\n",
       "    .dataframe tbody tr th {\n",
       "        vertical-align: top;\n",
       "    }\n",
       "\n",
       "    .dataframe thead th {\n",
       "        text-align: right;\n",
       "    }\n",
       "</style>\n",
       "<table border=\"1\" class=\"dataframe\">\n",
       "  <thead>\n",
       "    <tr style=\"text-align: right;\">\n",
       "      <th></th>\n",
       "      <th>visit_date</th>\n",
       "      <th>clicked_adopt_today</th>\n",
       "    </tr>\n",
       "  </thead>\n",
       "  <tbody>\n",
       "    <tr>\n",
       "      <th>0</th>\n",
       "      <td>2017-01-01</td>\n",
       "      <td>1</td>\n",
       "    </tr>\n",
       "    <tr>\n",
       "      <th>1</th>\n",
       "      <td>2017-01-02</td>\n",
       "      <td>1</td>\n",
       "    </tr>\n",
       "    <tr>\n",
       "      <th>2</th>\n",
       "      <td>2017-01-03</td>\n",
       "      <td>0</td>\n",
       "    </tr>\n",
       "    <tr>\n",
       "      <th>3</th>\n",
       "      <td>2017-01-04</td>\n",
       "      <td>1</td>\n",
       "    </tr>\n",
       "    <tr>\n",
       "      <th>4</th>\n",
       "      <td>2017-01-05</td>\n",
       "      <td>1</td>\n",
       "    </tr>\n",
       "  </tbody>\n",
       "</table>\n",
       "</div>"
      ],
      "text/plain": [
       "   visit_date  clicked_adopt_today\n",
       "0  2017-01-01                    1\n",
       "1  2017-01-02                    1\n",
       "2  2017-01-03                    0\n",
       "3  2017-01-04                    1\n",
       "4  2017-01-05                    1"
      ]
     },
     "execution_count": 4,
     "metadata": {},
     "output_type": "execute_result"
    }
   ],
   "source": [
    "# Get a view how the data frame looks like\n",
    "df.head()"
   ]
  },
  {
   "cell_type": "code",
   "execution_count": 5,
   "metadata": {},
   "outputs": [
    {
     "name": "stdout",
     "output_type": "stream",
     "text": [
      "The time period is 2017-01-01 to 2017-12-31\n"
     ]
    }
   ],
   "source": [
    "print('The time period is {} to {}'.format(df['visit_date'].min(),df['visit_date'].max()))"
   ]
  },
  {
   "cell_type": "markdown",
   "metadata": {},
   "source": [
    "Calculate the conversion rate over the whole time period"
   ]
  },
  {
   "cell_type": "code",
   "execution_count": 6,
   "metadata": {},
   "outputs": [
    {
     "data": {
      "text/plain": [
       "0.2772602739726027"
      ]
     },
     "execution_count": 6,
     "metadata": {},
     "output_type": "execute_result"
    }
   ],
   "source": [
    "# Converion on the whole period\n",
    "conversion = df[df['clicked_adopt_today'] == 1].count()/df['clicked_adopt_today'].count()\n",
    "conversion['clicked_adopt_today']"
   ]
  },
  {
   "cell_type": "markdown",
   "metadata": {},
   "source": [
    "Overall the conversion rate is 27.8% over entire year. Let's also look if there is any seasonality on the conversion rate."
   ]
  },
  {
   "cell_type": "code",
   "execution_count": 7,
   "metadata": {},
   "outputs": [
    {
     "data": {
      "text/html": [
       "<div>\n",
       "<style scoped>\n",
       "    .dataframe tbody tr th:only-of-type {\n",
       "        vertical-align: middle;\n",
       "    }\n",
       "\n",
       "    .dataframe tbody tr th {\n",
       "        vertical-align: top;\n",
       "    }\n",
       "\n",
       "    .dataframe thead th {\n",
       "        text-align: right;\n",
       "    }\n",
       "</style>\n",
       "<table border=\"1\" class=\"dataframe\">\n",
       "  <thead>\n",
       "    <tr style=\"text-align: right;\">\n",
       "      <th></th>\n",
       "      <th>clicked_adopt_today</th>\n",
       "    </tr>\n",
       "    <tr>\n",
       "      <th>visit_date</th>\n",
       "      <th></th>\n",
       "    </tr>\n",
       "  </thead>\n",
       "  <tbody>\n",
       "    <tr>\n",
       "      <th>2017-01-31</th>\n",
       "      <td>0.196774</td>\n",
       "    </tr>\n",
       "    <tr>\n",
       "      <th>2017-02-28</th>\n",
       "      <td>0.189286</td>\n",
       "    </tr>\n",
       "    <tr>\n",
       "      <th>2017-03-31</th>\n",
       "      <td>0.145161</td>\n",
       "    </tr>\n",
       "    <tr>\n",
       "      <th>2017-04-30</th>\n",
       "      <td>0.150000</td>\n",
       "    </tr>\n",
       "    <tr>\n",
       "      <th>2017-05-31</th>\n",
       "      <td>0.258065</td>\n",
       "    </tr>\n",
       "    <tr>\n",
       "      <th>2017-06-30</th>\n",
       "      <td>0.333333</td>\n",
       "    </tr>\n",
       "    <tr>\n",
       "      <th>2017-07-31</th>\n",
       "      <td>0.348387</td>\n",
       "    </tr>\n",
       "    <tr>\n",
       "      <th>2017-08-31</th>\n",
       "      <td>0.541935</td>\n",
       "    </tr>\n",
       "    <tr>\n",
       "      <th>2017-09-30</th>\n",
       "      <td>0.293333</td>\n",
       "    </tr>\n",
       "    <tr>\n",
       "      <th>2017-10-31</th>\n",
       "      <td>0.161290</td>\n",
       "    </tr>\n",
       "    <tr>\n",
       "      <th>2017-11-30</th>\n",
       "      <td>0.233333</td>\n",
       "    </tr>\n",
       "    <tr>\n",
       "      <th>2017-12-31</th>\n",
       "      <td>0.464516</td>\n",
       "    </tr>\n",
       "  </tbody>\n",
       "</table>\n",
       "</div>"
      ],
      "text/plain": [
       "            clicked_adopt_today\n",
       "visit_date                     \n",
       "2017-01-31             0.196774\n",
       "2017-02-28             0.189286\n",
       "2017-03-31             0.145161\n",
       "2017-04-30             0.150000\n",
       "2017-05-31             0.258065\n",
       "2017-06-30             0.333333\n",
       "2017-07-31             0.348387\n",
       "2017-08-31             0.541935\n",
       "2017-09-30             0.293333\n",
       "2017-10-31             0.161290\n",
       "2017-11-30             0.233333\n",
       "2017-12-31             0.464516"
      ]
     },
     "execution_count": 7,
     "metadata": {},
     "output_type": "execute_result"
    }
   ],
   "source": [
    "# Conversion for each month\n",
    "\n",
    "df['visit_date'] = pd.to_datetime(df['visit_date'])\n",
    "conv_month = df.groupby(pd.Grouper(key='visit_date', freq='M')).mean()\n",
    "conv_month\n"
   ]
  },
  {
   "cell_type": "markdown",
   "metadata": {},
   "source": [
    "The conversion rate seems to be not consistens. It appears to be some seasonality between the months. We will plot the conversion rate to get a better picture of the conversion."
   ]
  },
  {
   "cell_type": "code",
   "execution_count": 8,
   "metadata": {},
   "outputs": [
    {
     "data": {
      "image/png": "[encoded data removed]",
      "text/plain": [
       "<Figure size 432x288 with 1 Axes>"
      ]
     },
     "metadata": {
      "needs_background": "light"
     },
     "output_type": "display_data"
    }
   ],
   "source": [
    "# Visualise the average click per month \n",
    "import matplotlib.pyplot as plt\n",
    "conv_month.plot(title='Average click per month', xlabel='Visiting month', style='o-',legend =False)\n",
    "plt.show()\n"
   ]
  },
  {
   "cell_type": "markdown",
   "metadata": {},
   "source": [
    "Conversion rate are higher during August and December while Mars and April have a lower conversion."
   ]
  },
  {
   "cell_type": "markdown",
   "metadata": {},
   "source": [
    "## Power analysis for experimental design and how different parameter influence power\n",
    "Power analysis is a method to determine how big the sample size is required in order to make a good judgement. In other word, to correctly reject the null hypothesis. To do that we need Power and Power is the probability that we can correctly reject the null hypothesis, which is usually 0.8 or higher.\n",
    "\n",
    "Below is a plot that shows the relationship between power, confidence level and sample size."
   ]
  },
  {
   "cell_type": "code",
   "execution_count": 9,
   "metadata": {},
   "outputs": [],
   "source": [
    "# The necessary function for determine the sample size\n",
    "\n",
    "def get_power(n, p1, p2, cl):\n",
    "    \"\"\"\n",
    "    Calculate the power\n",
    "    \n",
    "    INPUT: n = sample size\n",
    "           p1 = control group mean\n",
    "           p2 = test group mean\n",
    "           cl = confidence level\n",
    "    OUTPUT: Power\n",
    "    \"\"\"\n",
    "    \n",
    "    \n",
    "    alpha = 1 - cl                   \n",
    "    qu = stats.norm.ppf(1 - alpha/2)\n",
    "    diff = abs(p2-p1)\n",
    "    bp = (p1+p2) / 2\n",
    "    \n",
    "    v1 = p1 * (1-p1)\n",
    "    v2 = p2 * (1-p2)\n",
    "    bv = bp * (1-bp)\n",
    "    \n",
    "    power_part_one = stats.norm.cdf((n**0.5 * diff - qu * (2 * bv)**0.5) / (v1+v2) ** 0.5)\n",
    "    power_part_two = 1 - stats.norm.cdf((n**0.5 * diff + qu * (2 * bv)**0.5) / (v1+v2) ** 0.5)\n",
    "    \n",
    "    power = power_part_one + power_part_two\n",
    "    \n",
    "    return (power)\n",
    "\n",
    "def get_sample_size(power, p1, p2, cl, max_n=1000000):\n",
    "    \"\"\"\n",
    "    Calculate the sample size based on the input data. \n",
    "    Initial sample size is 1 and increases by 1 for every iteration until max sample size 1000000 is reached.\n",
    "    However, if the the calculated power from get_power is equal or bigger than input power then the iteration stops and \n",
    "    the function return the sample size.\n",
    "    If the sample size exceed 1000 000 the function will return a warning message.\n",
    "    \n",
    "    INPUT: power = The power for the sample size\n",
    "           p1 = control group mean\n",
    "           p2 = test group mean\n",
    "           cl = confidence level\n",
    "           max_n = Maximum sample size allowed\n",
    "    OUTPUT: The required sample size for the given inputs or a text message\n",
    "    \"\"\"\n",
    "    n = 1 \n",
    "    while n <= max_n:\n",
    "        tmp_power = get_power(n, p1, p2, cl)\n",
    "        if tmp_power >= power: \n",
    "            return \"The sample size should be {} for the control and test group respectively\".format(n) \n",
    "        else: \n",
    "            n = n + 1\n",
    "    return 'The maximum sample size 1000000 exceeded'\n",
    "\n",
    "\n",
    "def get_power_plot(power, p1, p2, cl, max_n=1000000):\n",
    "    \"\"\"\n",
    "    Calculate the sample size based on the input data. \n",
    "    Initial sample size is 1 and increases by 1 for every iteration until max sample size 1000000 is reached. \n",
    "    Two empty lists are created to store the sample size and power for each iteration.\n",
    "    Once the calculated power from get_power is equal or bigger than input power then the iteration stops and \n",
    "    the function returns a list of sample size and power.\n",
    "    If the sample size exceed 1000 000 the function will return a warning message.\n",
    "    \n",
    "    INPUT: power = The power for the sample size\n",
    "           p1 = control group mean\n",
    "           p2 = test group mean\n",
    "           cl = confidence level\n",
    "           max_n = Maximum sample size allowed\n",
    "    OUTPUT: Return a list of sample size and power or a text message\n",
    "    \"\"\"\n",
    "    n = 1 \n",
    "    n_list =[]\n",
    "    power_list = []\n",
    "    while n <= max_n:\n",
    "        tmp_power = get_power(n, p1, p2, cl)\n",
    "        if tmp_power >= power: \n",
    "           \n",
    "            return n_list,power_list\n",
    "        else: \n",
    "            n = n + 1\n",
    "            n_list.append(n)\n",
    "            power_list.append(tmp_power)    \n",
    "            \n",
    "    return 'The maximum sample size 1000000 exceeded'"
   ]
  },
  {
   "cell_type": "code",
   "execution_count": 10,
   "metadata": {},
   "outputs": [
    {
     "data": {
      "image/png": "[encoded data removed]",
      "text/plain": [
       "<Figure size 432x288 with 1 Axes>"
      ]
     },
     "metadata": {
      "needs_background": "light"
     },
     "output_type": "display_data"
    }
   ],
   "source": [
    "# Plot and see the relationship between power, confidence level and sample size\n",
    "\n",
    "power = 0.8\n",
    "conversion_rate_p1 = 0.2 # Control group\n",
    "conversion_rate_p2 = 0.3 # Test group\n",
    "\n",
    "n,p = get_power_plot(power, conversion_rate_p1, conversion_rate_p2,0.95)\n",
    "df = pd.DataFrame([n,p],index=[\"sample_size\",'power']).transpose()\n",
    "\n",
    "plt.plot(df['sample_size'],df['power'])\n",
    "\n",
    "n,p = get_power_plot(power, conversion_rate_p1, conversion_rate_p2,0.80)\n",
    "df = pd.DataFrame([n,p],index=[\"sample_size\",'power']).transpose()\n",
    "plt.plot(df['sample_size'],df['power'])\n",
    "\n",
    "n,p = get_power_plot(power, conversion_rate_p1, conversion_rate_p2,0.70)\n",
    "df = pd.DataFrame([n,p],index=[\"sample_size\",'power']).transpose()\n",
    "plt.plot(df['sample_size'],df['power'])\n",
    "\n",
    "plt.xlabel(\"Sample Size\")\n",
    "plt.ylabel(\"Power\")\n",
    "plt.title('Relationship between Sample size, Power and Confidence level')\n",
    "plt.legend([\"cl: 0.95\",\"cl: 0.80\",\"cl: 0.70\"])\n",
    "\n",
    "plt.show()"
   ]
  },
  {
   "cell_type": "markdown",
   "metadata": {},
   "source": [
    "From the plot we can see:\n",
    "*   With a fixed power, the sample size decreases with a lower confidence level\n",
    "*   With a fixed confidence level, a bigger sample size gives a higher power. This means that with a higher power requires a bigger sample size!"
   ]
  },
  {
   "cell_type": "markdown",
   "metadata": {},
   "source": [
    " ### Perform Power analysis to determine sample size for our case"
   ]
  },
  {
   "cell_type": "markdown",
   "metadata": {},
   "source": [
    "Assuming we want to run the test in January. \n",
    "From the previous plot <B>Average click per month</B> we saw the conversion rate is around and 20% and we want to increase the conversion to 30%"
   ]
  },
  {
   "cell_type": "code",
   "execution_count": 11,
   "metadata": {},
   "outputs": [
    {
     "name": "stdout",
     "output_type": "stream",
     "text": [
      "The sample size should be 294 for the control and test group respectively\n"
     ]
    }
   ],
   "source": [
    "# Determine the sample size for our test\n",
    "conversion_rate = 0.2\n",
    "power = 0.8\n",
    "cl = 0.95\n",
    "percent_lift = 0.1\n",
    "conversion_rate_p2 = 0.3\n",
    "msg = get_sample_size(power, conversion_rate, conversion_rate_p2, cl)\n",
    "print(msg)"
   ]
  },
  {
   "cell_type": "markdown",
   "metadata": {},
   "source": [
    " # A/B testing\n",
    " ## Evaluation of control group and test group"
   ]
  },
  {
   "cell_type": "code",
   "execution_count": 12,
   "metadata": {},
   "outputs": [
    {
     "data": {
      "text/html": [
       "<div>\n",
       "<style scoped>\n",
       "    .dataframe tbody tr th:only-of-type {\n",
       "        vertical-align: middle;\n",
       "    }\n",
       "\n",
       "    .dataframe tbody tr th {\n",
       "        vertical-align: top;\n",
       "    }\n",
       "\n",
       "    .dataframe thead th {\n",
       "        text-align: right;\n",
       "    }\n",
       "</style>\n",
       "<table border=\"1\" class=\"dataframe\">\n",
       "  <thead>\n",
       "    <tr style=\"text-align: right;\">\n",
       "      <th></th>\n",
       "      <th>Conversion</th>\n",
       "    </tr>\n",
       "    <tr>\n",
       "      <th>condition</th>\n",
       "      <th></th>\n",
       "    </tr>\n",
       "  </thead>\n",
       "  <tbody>\n",
       "    <tr>\n",
       "      <th>control</th>\n",
       "      <td>0.166667</td>\n",
       "    </tr>\n",
       "    <tr>\n",
       "      <th>test</th>\n",
       "      <td>0.384354</td>\n",
       "    </tr>\n",
       "  </tbody>\n",
       "</table>\n",
       "</div>"
      ],
      "text/plain": [
       "           Conversion\n",
       "condition            \n",
       "control      0.166667\n",
       "test         0.384354"
      ]
     },
     "execution_count": 12,
     "metadata": {},
     "output_type": "execute_result"
    }
   ],
   "source": [
    "# Read the experiment run in Januari and calculate the conversion for respetively group\n",
    "\n",
    "df = pd.read_csv('experiment_data.csv')\n",
    "\n",
    "conversion_con_tes = df.groupby('condition').mean()\n",
    "conversion_con_tes.rename(columns={'clicked_adopt_today':'Conversion'})"
   ]
  },
  {
   "cell_type": "markdown",
   "metadata": {},
   "source": [
    "Overall the conversion looks higher for the test group. Lets plot to see how the conversion is in more detail during Januari"
   ]
  },
  {
   "cell_type": "code",
   "execution_count": 13,
   "metadata": {},
   "outputs": [
    {
     "data": {
      "image/png": "[encoded data removed]",
      "text/plain": [
       "<Figure size 576x432 with 1 Axes>"
      ]
     },
     "metadata": {
      "needs_background": "light"
     },
     "output_type": "display_data"
    }
   ],
   "source": [
    "converion_date = df.groupby(['visit_date','condition']).mean()\n",
    "converion_date.reset_index(inplace=True)\n",
    "\n",
    "plt.figure(figsize=(8,6))\n",
    "sns.lineplot(data=converion_date, \n",
    "             x=converion_date['visit_date'], \n",
    "             y=converion_date['clicked_adopt_today'], \n",
    "             hue='condition',\n",
    "             marker='o',\n",
    "             palette='Set1')\n",
    "plt.xticks(np.arange(0,31,7))\n",
    "plt.title('Converion per day')\n",
    "plt.xlabel('Date')\n",
    "plt.ylabel('Conversion [%]')\n",
    "plt.show()"
   ]
  },
  {
   "cell_type": "markdown",
   "metadata": {},
   "source": [
    "The conversion looks indeed higher for the test group when looking daily-resolution.\n",
    "To confirm that we will use A/B testing. The output variable (dependent variable) is binary (categorical) so we will use a generalized linear model which can enable logistic regression with parameter `family=sm.families.Binomial()`. \n",
    "\n",
    "With a significance level of  5%, we define our hypothesis:\n",
    "$$\n",
    "H_{0}: \\text{No diffrence between Control group and Test group}\n",
    "$$\n",
    "$$\n",
    "H_{A}: \\text{There is a difference between Control group and Test group}\n",
    "$$"
   ]
  },
  {
   "cell_type": "code",
   "execution_count": 14,
   "metadata": {},
   "outputs": [
    {
     "data": {
      "text/html": [
       "<table class=\"simpletable\">\n",
       "<caption>Generalized Linear Model Regression Results</caption>\n",
       "<tr>\n",
       "  <th>Dep. Variable:</th>   <td>clicked_adopt_today</td> <th>  No. Observations:  </th>  <td>   588</td> \n",
       "</tr>\n",
       "<tr>\n",
       "  <th>Model:</th>                   <td>GLM</td>         <th>  Df Residuals:      </th>  <td>   586</td> \n",
       "</tr>\n",
       "<tr>\n",
       "  <th>Model Family:</th>         <td>Binomial</td>       <th>  Df Model:          </th>  <td>     1</td> \n",
       "</tr>\n",
       "<tr>\n",
       "  <th>Link Function:</th>          <td>logit</td>        <th>  Scale:             </th> <td>  1.0000</td>\n",
       "</tr>\n",
       "<tr>\n",
       "  <th>Method:</th>                 <td>IRLS</td>         <th>  Log-Likelihood:    </th> <td> -328.31</td>\n",
       "</tr>\n",
       "<tr>\n",
       "  <th>Date:</th>             <td>Mon, 23 Nov 2020</td>   <th>  Deviance:          </th> <td>  656.63</td>\n",
       "</tr>\n",
       "<tr>\n",
       "  <th>Time:</th>                 <td>10:19:56</td>       <th>  Pearson chi2:      </th>  <td>  588.</td> \n",
       "</tr>\n",
       "<tr>\n",
       "  <th>No. Iterations:</th>           <td>4</td>          <th>                     </th>     <td> </td>   \n",
       "</tr>\n",
       "<tr>\n",
       "  <th>Covariance Type:</th>      <td>nonrobust</td>      <th>                     </th>     <td> </td>   \n",
       "</tr>\n",
       "</table>\n",
       "<table class=\"simpletable\">\n",
       "<tr>\n",
       "          <td></td>             <th>coef</th>     <th>std err</th>      <th>z</th>      <th>P>|z|</th>  <th>[0.025</th>    <th>0.975]</th>  \n",
       "</tr>\n",
       "<tr>\n",
       "  <th>Intercept</th>         <td>   -1.6094</td> <td>    0.156</td> <td>  -10.284</td> <td> 0.000</td> <td>   -1.916</td> <td>   -1.303</td>\n",
       "</tr>\n",
       "<tr>\n",
       "  <th>condition[T.test]</th> <td>    1.1383</td> <td>    0.197</td> <td>    5.774</td> <td> 0.000</td> <td>    0.752</td> <td>    1.525</td>\n",
       "</tr>\n",
       "</table>"
      ],
      "text/plain": [
       "<class 'statsmodels.iolib.summary.Summary'>\n",
       "\"\"\"\n",
       "                  Generalized Linear Model Regression Results                  \n",
       "===============================================================================\n",
       "Dep. Variable:     clicked_adopt_today   No. Observations:                  588\n",
       "Model:                             GLM   Df Residuals:                      586\n",
       "Model Family:                 Binomial   Df Model:                            1\n",
       "Link Function:                   logit   Scale:                          1.0000\n",
       "Method:                           IRLS   Log-Likelihood:                -328.31\n",
       "Date:                 Mon, 23 Nov 2020   Deviance:                       656.63\n",
       "Time:                         10:19:56   Pearson chi2:                     588.\n",
       "No. Iterations:                      4                                         \n",
       "Covariance Type:             nonrobust                                         \n",
       "=====================================================================================\n",
       "                        coef    std err          z      P>|z|      [0.025      0.975]\n",
       "-------------------------------------------------------------------------------------\n",
       "Intercept            -1.6094      0.156    -10.284      0.000      -1.916      -1.303\n",
       "condition[T.test]     1.1383      0.197      5.774      0.000       0.752       1.525\n",
       "=====================================================================================\n",
       "\"\"\""
      ]
     },
     "execution_count": 14,
     "metadata": {},
     "output_type": "execute_result"
    }
   ],
   "source": [
    "converion_date['condition']=converion_date['condition'].map({'control':'0','test':'1'})\n",
    "\n",
    "binomial_model = sm.formula.glm(\"clicked_adopt_today~condition\",\n",
    "                                data=df, \n",
    "                                family=sm.families.Binomial())\n",
    "result = binomial_model.fit()\n",
    "result.summary()"
   ]
  },
  {
   "cell_type": "markdown",
   "metadata": {},
   "source": [
    "From <I>Generalized Linear Model Regression Results</I> we can see that the confidence interval for Test group does not contain 0 and the the p-value is way below 0.05. We can reject the null hypothesis and accept alternative hypothesis that the groups are  statistical significant different."
   ]
  },
  {
   "cell_type": "markdown",
   "metadata": {},
   "source": [
    "# Conclusion "
   ]
  },
  {
   "cell_type": "markdown",
   "metadata": {},
   "source": [
    "We have determined the base value for our A/B-testing and also showed how Power Analysis influence the sample size. Power analysis were used to determine the sample sizes control group and test group respectively for A/B-testing. The A/B test showed that the test group with the new page have a higher conversion rate."
   ]
  }
 ],
 "metadata": {
  "kernelspec": {
   "display_name": "Python 3",
   "language": "python",
   "name": "python3"
  },
  "language_info": {
   "codemirror_mode": {
    "name": "ipython",
    "version": 3
   },
   "file_extension": ".py",
   "mimetype": "text/x-python",
   "name": "python",
   "nbconvert_exporter": "python",
   "pygments_lexer": "ipython3",
   "version": "3.7.9"
  }
 },
 "nbformat": 4,
 "nbformat_minor": 2
}
